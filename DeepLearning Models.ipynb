{
 "cells": [
  {
   "cell_type": "code",
   "execution_count": 2,
   "id": "06b58fae",
   "metadata": {},
   "outputs": [],
   "source": [
    "import pandas as pd\n",
    "import numpy as np\n",
    "import torch\n",
    "import torch.functional as F\n",
    "import torch.nn as nn \n",
    "import torch.optim as optim\n",
    "from sklearn.model_selection import train_test_split\n",
    "from sklearn.metrics import accuracy_score, f1_score, confusion_matrix, classification_report, ConfusionMatrixDisplay, roc_auc_score\n",
    "from torch.utils.data import Dataset, random_split, DataLoader, WeightedRandomSampler\n",
    "import os\n",
    "from torch.utils.tensorboard import SummaryWriter\n",
    "import time\n",
    "import pickle\n",
    "from imblearn.over_sampling import SMOTE, ADASYN"
   ]
  },
  {
   "cell_type": "markdown",
   "id": "262fac87",
   "metadata": {},
   "source": [
    "### 1. Data Loading"
   ]
  },
  {
   "cell_type": "code",
   "execution_count": 3,
   "id": "2eaff451",
   "metadata": {},
   "outputs": [],
   "source": [
    "def read_data(path):\n",
    "    with open(path, 'rb') as f:\n",
    "        data = pickle.load(f)\n",
    "    X_train = data[\"X_train\"].copy()\n",
    "    X_valid = data[\"X_valid\"].copy()\n",
    "    X_test = data[\"X_test\"].copy()\n",
    "    y_train = data[\"y_train\"].copy()\n",
    "    y_valid = data[\"y_valid\"].copy()\n",
    "    y_test = data[\"y_test\"].copy()\n",
    "    features = data['feature_selection'].copy()\n",
    "    \n",
    "    return X_train, X_valid, X_test, y_train, y_valid, y_test, features\n",
    "\n",
    "data_path = 'Preprocessing/Final_data.pkl'\n",
    "X_train, X_valid, X_test, y_train, y_valid, y_test, features = read_data(data_path)"
   ]
  },
  {
   "cell_type": "markdown",
   "id": "6cbd3a34",
   "metadata": {},
   "source": [
    "### 2. Create Dataset"
   ]
  },
  {
   "cell_type": "code",
   "execution_count": 4,
   "id": "3e32a277",
   "metadata": {},
   "outputs": [],
   "source": [
    "class myDataSet(Dataset):\n",
    "    def __init__(self, data, label):\n",
    "        super().__init__()\n",
    "        self.data = torch.tensor(data.values, dtype=torch.float32)\n",
    "        self.label = torch.tensor(label.values, dtype=torch.long)\n",
    "    \n",
    "    def __len__(self):\n",
    "        return len(self.data)\n",
    "    \n",
    "    def __getitem__(self, index):\n",
    "        return self.data[index], self.label[index]"
   ]
  },
  {
   "cell_type": "code",
   "execution_count": 5,
   "id": "8f7c25cb",
   "metadata": {},
   "outputs": [],
   "source": [
    "BATCH_SIZE = 16\n",
    "\n",
    "train_data = myDataSet(X_train, y_train)\n",
    "train_loader = DataLoader(train_data, batch_size=BATCH_SIZE, shuffle=True)\n",
    "\n",
    "valid_data = myDataSet(X_valid, y_valid)\n",
    "valid_loader = DataLoader(valid_data, batch_size=BATCH_SIZE, shuffle=False)\n",
    "\n",
    "test_data = myDataSet(X_test, y_test)\n",
    "test_loader = DataLoader(test_data, batch_size=BATCH_SIZE, shuffle=False)"
   ]
  },
  {
   "cell_type": "markdown",
   "id": "1e19d633",
   "metadata": {},
   "source": [
    "### 3. Define Neural Network Structure"
   ]
  },
  {
   "cell_type": "code",
   "execution_count": 6,
   "id": "e6672d13",
   "metadata": {},
   "outputs": [],
   "source": [
    "class NeuralNetwork(nn.Module):\n",
    "    def __init__(self, input_dim, output_dim):\n",
    "        super().__init__()\n",
    "        \n",
    "        self.net = nn.Sequential(\n",
    "            nn.Linear(input_dim, 32),\n",
    "            nn.BatchNorm1d(32),       \n",
    "            nn.LeakyReLU(0.1),\n",
    "            \n",
    "            nn.Linear(32, 64),\n",
    "            nn.BatchNorm1d(64),\n",
    "            nn.LeakyReLU(0.1),\n",
    "            \n",
    "            nn.Linear(64, 128),\n",
    "            nn.BatchNorm1d(128),\n",
    "            nn.LeakyReLU(0.1),\n",
    "            nn.Dropout(0.3),          \n",
    "\n",
    "            nn.Linear(128, 256),\n",
    "            nn.BatchNorm1d(256),\n",
    "            nn.LeakyReLU(0.1),\n",
    "            nn.Dropout(0.3),\n",
    "            \n",
    "            nn.Linear(256, 512),\n",
    "            nn.BatchNorm1d(512),\n",
    "            nn.LeakyReLU(0.1),\n",
    "            nn.Dropout(0.3),\n",
    "\n",
    "            nn.Linear(512, output_dim),\n",
    "            nn.LogSoftmax(dim=1)      \n",
    "        )\n",
    "    \n",
    "    def forward(self, x):\n",
    "        return self.net(x)\n"
   ]
  },
  {
   "cell_type": "markdown",
   "id": "b3f012fa",
   "metadata": {},
   "source": [
    "### 4. Parameters & Hyperparameters"
   ]
  },
  {
   "cell_type": "code",
   "execution_count": null,
   "id": "45639bf8",
   "metadata": {},
   "outputs": [],
   "source": [
    "# Parameter\n",
    "IN_DIM = X_train.shape[1]\n",
    "OUT_DIM = 2\n",
    "\n",
    "# Hyperparameters\n",
    "LEARNING_RATE = 1e-4\n",
    "NUM_EPOCHS = 100\n"
   ]
  },
  {
   "cell_type": "markdown",
   "id": "ff7cb49e",
   "metadata": {},
   "source": [
    "### 5. Model Training"
   ]
  },
  {
   "cell_type": "code",
   "execution_count": null,
   "id": "66d33133",
   "metadata": {},
   "outputs": [],
   "source": [
    "device = torch.device(\"cuda\" if torch.cuda.is_available() else \"cpu\")\n",
    "model = NeuralNetwork(input_dim=IN_DIM, output_dim=OUT_DIM).to(device)\n",
    "\n",
    "# class_counts = np.bincount(y_train)  \n",
    "# class_weights = 1.0 / torch.tensor(class_counts, dtype=torch.float32)\n",
    "# class_weights = class_weights / class_weights.sum() \n",
    "# class_weights = class_weights.to(device)\n",
    "\n",
    "class_weights = torch.tensor([0.3, 0.7], dtype=torch.float32).to(device)\n",
    "\n",
    "criterion = nn.CrossEntropyLoss(weight=class_weights).to(device)  \n",
    "optimizer = torch.optim.AdamW(model.parameters(), lr=LEARNING_RATE, weight_decay=1e-4)\n",
    "\n",
    "best_acc = 0.0\n",
    "best_roc_auc = 0.0\n",
    "    \n",
    "\n",
    "def train(NUM_EPOCHS = 100, seed = 42):\n",
    "    torch.random.manual_seed(seed)\n",
    "    timestamp = int(time.time())\n",
    "    n_features = X_train.shape[1]\n",
    "    save_dir = f'Models/NeuralNetwork__{n_features}_features__{timestamp}/'\n",
    "    os.makedirs(save_dir, exist_ok=True)\n",
    "    log_dir = f'runs/NeuralNetwork__{n_features}_features__{timestamp}/'\n",
    "    \n",
    "    writer = SummaryWriter(log_dir=log_dir)    \n",
    "    \n",
    "    global best_acc, best_roc_auc\n",
    "\n",
    "    for epoch in range(NUM_EPOCHS):\n",
    "        model.train()\n",
    "        total_loss = 0\n",
    "\n",
    "        for x, y in train_loader:\n",
    "            x, y = x.to(device), y.to(device)\n",
    "            preds = model(x)\n",
    "            \n",
    "            loss = criterion(preds, y)\n",
    "            total_loss += loss.item()\n",
    "\n",
    "            optimizer.zero_grad()\n",
    "            loss.backward()\n",
    "            optimizer.step()\n",
    "        \n",
    "        model.eval()\n",
    "        y_pred = []\n",
    "        \n",
    "        with torch.no_grad():\n",
    "            for x, y in valid_loader:\n",
    "                x, y = x.to(device), y.to(device)\n",
    "                preds = model(x)\n",
    "                y_pred.extend(preds.argmax(dim=1).tolist())\n",
    "                \n",
    "        avg_loss = total_loss / len(train_loader)\n",
    "        \n",
    "        acc_score = accuracy_score(y_valid, y_pred)\n",
    "        roc_auc = roc_auc_score(y_valid, y_pred)\n",
    "\n",
    "        writer.add_scalar(\"Loss/train\", avg_loss, epoch)\n",
    "        writer.add_scalar(\"Accuracy/valid\", acc_score, epoch)\n",
    "        writer.add_scalar(\"F1-Score/valid\", roc_auc, epoch)\n",
    "\n",
    "        print(f\"Epoch {epoch+1}: Loss = {total_loss/len(train_loader):.4f}, Accuracy = {acc_score:.4f}, ROC-AUC Score = {roc_auc:.4f}\")\n",
    "\n",
    "        if acc_score > best_acc:\n",
    "            best_acc = acc_score\n",
    "            torch.save(model.state_dict(), os.path.join(save_dir, 'best_accuracy.pth'))\n",
    "            \n",
    "        if roc_auc > best_roc_auc:\n",
    "            best_roc_auc = roc_auc\n",
    "            torch.save(model.state_dict(),os.path.join(save_dir, 'best_roc_auc.pth'))\n",
    "\n",
    "    torch.save(model.state_dict(), os.path.join(save_dir, 'final_epoch.pth'))\n",
    "    \n",
    "    print(f\"Training finished. Best Accuracy: {best_acc:.4f}, Best ROC-AUC Score: {best_roc_auc:.4f}\")\n",
    "    \n",
    "    writer.close()"
   ]
  },
  {
   "cell_type": "code",
   "execution_count": 10,
   "id": "4964ee6a",
   "metadata": {},
   "outputs": [
    {
     "name": "stdout",
     "output_type": "stream",
     "text": [
      "Epoch 1: Loss = 0.6622, Accuracy = 0.7891, ROC-AUC Score = 0.5740\n",
      "Epoch 2: Loss = 0.5897, Accuracy = 0.7823, ROC-AUC Score = 0.5877\n",
      "Epoch 3: Loss = 0.5607, Accuracy = 0.8027, ROC-AUC Score = 0.5998\n",
      "Epoch 4: Loss = 0.5450, Accuracy = 0.7959, ROC-AUC Score = 0.5603\n",
      "Epoch 5: Loss = 0.5661, Accuracy = 0.7619, ROC-AUC Score = 0.5756\n",
      "Epoch 6: Loss = 0.5358, Accuracy = 0.7755, ROC-AUC Score = 0.5836\n",
      "Epoch 7: Loss = 0.5319, Accuracy = 0.7891, ROC-AUC Score = 0.5740\n",
      "Epoch 8: Loss = 0.5401, Accuracy = 0.7755, ROC-AUC Score = 0.5836\n",
      "Epoch 9: Loss = 0.5181, Accuracy = 0.7687, ROC-AUC Score = 0.5619\n",
      "Epoch 10: Loss = 0.5149, Accuracy = 0.7823, ROC-AUC Score = 0.5700\n",
      "Epoch 11: Loss = 0.4971, Accuracy = 0.8027, ROC-AUC Score = 0.5820\n",
      "Epoch 12: Loss = 0.4990, Accuracy = 0.7959, ROC-AUC Score = 0.6134\n",
      "Epoch 13: Loss = 0.5089, Accuracy = 0.8095, ROC-AUC Score = 0.6392\n",
      "Epoch 14: Loss = 0.4940, Accuracy = 0.7891, ROC-AUC Score = 0.6625\n",
      "Epoch 15: Loss = 0.4867, Accuracy = 0.7891, ROC-AUC Score = 0.5740\n",
      "Epoch 16: Loss = 0.4679, Accuracy = 0.7687, ROC-AUC Score = 0.5973\n",
      "Epoch 17: Loss = 0.4743, Accuracy = 0.7823, ROC-AUC Score = 0.6585\n",
      "Epoch 18: Loss = 0.4788, Accuracy = 0.8095, ROC-AUC Score = 0.6569\n",
      "Epoch 19: Loss = 0.4579, Accuracy = 0.7755, ROC-AUC Score = 0.6190\n",
      "Epoch 20: Loss = 0.4605, Accuracy = 0.8027, ROC-AUC Score = 0.6352\n",
      "Epoch 21: Loss = 0.4514, Accuracy = 0.8027, ROC-AUC Score = 0.6883\n",
      "Epoch 22: Loss = 0.4527, Accuracy = 0.8299, ROC-AUC Score = 0.6867\n",
      "Epoch 23: Loss = 0.4304, Accuracy = 0.8027, ROC-AUC Score = 0.6706\n",
      "Epoch 24: Loss = 0.4267, Accuracy = 0.8163, ROC-AUC Score = 0.6786\n",
      "Epoch 25: Loss = 0.4402, Accuracy = 0.7823, ROC-AUC Score = 0.6762\n",
      "Epoch 26: Loss = 0.4611, Accuracy = 0.7891, ROC-AUC Score = 0.6448\n",
      "Epoch 27: Loss = 0.4231, Accuracy = 0.7959, ROC-AUC Score = 0.6488\n",
      "Epoch 28: Loss = 0.4299, Accuracy = 0.7891, ROC-AUC Score = 0.6625\n",
      "Epoch 29: Loss = 0.4270, Accuracy = 0.7823, ROC-AUC Score = 0.5877\n",
      "Epoch 30: Loss = 0.4054, Accuracy = 0.8163, ROC-AUC Score = 0.7141\n",
      "Epoch 31: Loss = 0.4145, Accuracy = 0.8027, ROC-AUC Score = 0.6352\n",
      "Epoch 32: Loss = 0.4294, Accuracy = 0.8027, ROC-AUC Score = 0.7060\n",
      "Epoch 33: Loss = 0.4144, Accuracy = 0.8095, ROC-AUC Score = 0.6746\n",
      "Epoch 34: Loss = 0.3942, Accuracy = 0.8027, ROC-AUC Score = 0.6352\n",
      "Epoch 35: Loss = 0.4383, Accuracy = 0.8027, ROC-AUC Score = 0.6529\n",
      "Epoch 36: Loss = 0.4097, Accuracy = 0.7959, ROC-AUC Score = 0.6843\n",
      "Epoch 37: Loss = 0.4032, Accuracy = 0.7891, ROC-AUC Score = 0.6094\n",
      "Epoch 38: Loss = 0.4143, Accuracy = 0.7959, ROC-AUC Score = 0.6843\n",
      "Epoch 39: Loss = 0.3911, Accuracy = 0.8095, ROC-AUC Score = 0.6923\n",
      "Epoch 40: Loss = 0.3952, Accuracy = 0.7959, ROC-AUC Score = 0.6488\n",
      "Epoch 41: Loss = 0.3935, Accuracy = 0.7959, ROC-AUC Score = 0.6665\n",
      "Epoch 42: Loss = 0.4255, Accuracy = 0.8027, ROC-AUC Score = 0.6706\n",
      "Epoch 43: Loss = 0.3650, Accuracy = 0.8095, ROC-AUC Score = 0.6569\n",
      "Epoch 44: Loss = 0.3918, Accuracy = 0.8027, ROC-AUC Score = 0.6706\n",
      "Epoch 45: Loss = 0.3822, Accuracy = 0.8163, ROC-AUC Score = 0.6964\n",
      "Epoch 46: Loss = 0.3939, Accuracy = 0.8095, ROC-AUC Score = 0.6923\n",
      "Epoch 47: Loss = 0.3746, Accuracy = 0.8027, ROC-AUC Score = 0.6883\n",
      "Epoch 48: Loss = 0.3542, Accuracy = 0.8027, ROC-AUC Score = 0.6883\n",
      "Epoch 49: Loss = 0.3893, Accuracy = 0.7891, ROC-AUC Score = 0.6802\n",
      "Epoch 50: Loss = 0.3837, Accuracy = 0.8231, ROC-AUC Score = 0.6650\n",
      "Epoch 51: Loss = 0.3709, Accuracy = 0.7823, ROC-AUC Score = 0.6585\n",
      "Epoch 52: Loss = 0.3735, Accuracy = 0.8095, ROC-AUC Score = 0.6746\n",
      "Epoch 53: Loss = 0.4137, Accuracy = 0.7823, ROC-AUC Score = 0.6408\n",
      "Epoch 54: Loss = 0.3597, Accuracy = 0.7959, ROC-AUC Score = 0.6488\n",
      "Epoch 55: Loss = 0.3779, Accuracy = 0.7959, ROC-AUC Score = 0.6843\n",
      "Epoch 56: Loss = 0.3932, Accuracy = 0.7959, ROC-AUC Score = 0.6665\n",
      "Epoch 57: Loss = 0.3567, Accuracy = 0.8027, ROC-AUC Score = 0.6706\n",
      "Epoch 58: Loss = 0.3541, Accuracy = 0.7959, ROC-AUC Score = 0.6665\n",
      "Epoch 59: Loss = 0.3757, Accuracy = 0.8163, ROC-AUC Score = 0.6786\n",
      "Epoch 60: Loss = 0.3675, Accuracy = 0.7959, ROC-AUC Score = 0.6488\n",
      "Epoch 61: Loss = 0.3682, Accuracy = 0.7959, ROC-AUC Score = 0.6488\n",
      "Epoch 62: Loss = 0.3484, Accuracy = 0.7823, ROC-AUC Score = 0.6585\n",
      "Epoch 63: Loss = 0.3482, Accuracy = 0.8095, ROC-AUC Score = 0.6569\n",
      "Epoch 64: Loss = 0.3502, Accuracy = 0.7823, ROC-AUC Score = 0.6585\n",
      "Epoch 65: Loss = 0.3390, Accuracy = 0.7687, ROC-AUC Score = 0.6327\n",
      "Epoch 66: Loss = 0.3471, Accuracy = 0.8163, ROC-AUC Score = 0.6432\n",
      "Epoch 67: Loss = 0.3416, Accuracy = 0.7891, ROC-AUC Score = 0.6625\n",
      "Epoch 68: Loss = 0.3305, Accuracy = 0.7959, ROC-AUC Score = 0.6311\n",
      "Epoch 69: Loss = 0.3462, Accuracy = 0.8095, ROC-AUC Score = 0.6392\n",
      "Epoch 70: Loss = 0.3299, Accuracy = 0.8163, ROC-AUC Score = 0.6609\n",
      "Epoch 71: Loss = 0.3488, Accuracy = 0.7959, ROC-AUC Score = 0.6311\n",
      "Epoch 72: Loss = 0.3347, Accuracy = 0.7755, ROC-AUC Score = 0.6190\n",
      "Epoch 73: Loss = 0.3100, Accuracy = 0.8027, ROC-AUC Score = 0.6352\n",
      "Epoch 74: Loss = 0.3266, Accuracy = 0.7823, ROC-AUC Score = 0.5877\n",
      "Epoch 75: Loss = 0.3031, Accuracy = 0.7959, ROC-AUC Score = 0.6134\n",
      "Epoch 76: Loss = 0.3313, Accuracy = 0.7891, ROC-AUC Score = 0.6448\n",
      "Epoch 77: Loss = 0.3267, Accuracy = 0.7959, ROC-AUC Score = 0.6311\n",
      "Epoch 78: Loss = 0.3093, Accuracy = 0.8027, ROC-AUC Score = 0.6352\n",
      "Epoch 79: Loss = 0.3046, Accuracy = 0.7823, ROC-AUC Score = 0.6408\n",
      "Epoch 80: Loss = 0.3160, Accuracy = 0.7755, ROC-AUC Score = 0.6722\n",
      "Epoch 81: Loss = 0.3070, Accuracy = 0.8095, ROC-AUC Score = 0.6569\n",
      "Epoch 82: Loss = 0.3354, Accuracy = 0.7687, ROC-AUC Score = 0.6327\n",
      "Epoch 83: Loss = 0.3507, Accuracy = 0.7551, ROC-AUC Score = 0.6246\n",
      "Epoch 84: Loss = 0.3323, Accuracy = 0.7891, ROC-AUC Score = 0.6448\n",
      "Epoch 85: Loss = 0.3316, Accuracy = 0.7755, ROC-AUC Score = 0.6367\n",
      "Epoch 86: Loss = 0.3163, Accuracy = 0.7891, ROC-AUC Score = 0.6625\n",
      "Epoch 87: Loss = 0.3242, Accuracy = 0.8163, ROC-AUC Score = 0.6255\n",
      "Epoch 88: Loss = 0.3117, Accuracy = 0.7823, ROC-AUC Score = 0.6408\n",
      "Epoch 89: Loss = 0.2786, Accuracy = 0.8095, ROC-AUC Score = 0.6569\n",
      "Epoch 90: Loss = 0.3088, Accuracy = 0.7687, ROC-AUC Score = 0.6504\n",
      "Epoch 91: Loss = 0.2962, Accuracy = 0.8027, ROC-AUC Score = 0.6175\n",
      "Epoch 92: Loss = 0.3004, Accuracy = 0.7959, ROC-AUC Score = 0.6665\n",
      "Epoch 93: Loss = 0.2908, Accuracy = 0.8095, ROC-AUC Score = 0.6392\n",
      "Epoch 94: Loss = 0.3081, Accuracy = 0.7959, ROC-AUC Score = 0.6311\n",
      "Epoch 95: Loss = 0.2748, Accuracy = 0.7823, ROC-AUC Score = 0.5877\n",
      "Epoch 96: Loss = 0.3051, Accuracy = 0.8163, ROC-AUC Score = 0.6432\n",
      "Epoch 97: Loss = 0.3296, Accuracy = 0.8027, ROC-AUC Score = 0.6352\n",
      "Epoch 98: Loss = 0.2852, Accuracy = 0.8163, ROC-AUC Score = 0.6255\n",
      "Epoch 99: Loss = 0.2926, Accuracy = 0.7891, ROC-AUC Score = 0.5917\n",
      "Epoch 100: Loss = 0.2729, Accuracy = 0.7551, ROC-AUC Score = 0.6246\n",
      "Training finished. Best Accuracy: 0.8299, Best ROC-AUC Score: 0.7141\n"
     ]
    }
   ],
   "source": [
    "train(100, 42)"
   ]
  },
  {
   "cell_type": "markdown",
   "id": "8b9bf0cd",
   "metadata": {},
   "source": [
    "### 6. Model Evaluation"
   ]
  },
  {
   "cell_type": "code",
   "execution_count": 12,
   "id": "3f852105",
   "metadata": {},
   "outputs": [
    {
     "name": "stdout",
     "output_type": "stream",
     "text": [
      "Accuracy score: 0.8299, F1-Score: 0.4681\n"
     ]
    },
    {
     "data": {
      "text/plain": [
       "<sklearn.metrics._plot.confusion_matrix.ConfusionMatrixDisplay at 0x253436d7f80>"
      ]
     },
     "execution_count": 12,
     "metadata": {},
     "output_type": "execute_result"
    },
    {
     "data": {
      "image/png": "[encoded data removed]",
      "text/plain": [
       "<Figure size 640x480 with 2 Axes>"
      ]
     },
     "metadata": {},
     "output_type": "display_data"
    }
   ],
   "source": [
    "model.load_state_dict(torch.load('Models/NeuralNetwork__31_features__1744046838/best_accuracy.pth'))\n",
    "\n",
    "model.eval()\n",
    "y_pred = []\n",
    "with torch.no_grad():\n",
    "    loader = test_loader\n",
    "    for x, y in loader:\n",
    "        x, y = x.to(device), y.to(device)\n",
    "        preds = model(x)\n",
    "        y_pred.extend(preds.argmax(dim=1).tolist())\n",
    "        \n",
    "print(f'Accuracy score: {accuracy_score(y_test, y_pred):.4f}, F1-Score: {f1_score(y_test, y_pred):.4f}')\n",
    "ConfusionMatrixDisplay(confusion_matrix(y_test, y_pred)).plot()"
   ]
  }
 ],
 "metadata": {
  "kernelspec": {
   "display_name": "Python 3",
   "language": "python",
   "name": "python3"
  },
  "language_info": {
   "codemirror_mode": {
    "name": "ipython",
    "version": 3
   },
   "file_extension": ".py",
   "mimetype": "text/x-python",
   "name": "python",
   "nbconvert_exporter": "python",
   "pygments_lexer": "ipython3",
   "version": "3.12.4"
  }
 },
 "nbformat": 4,
 "nbformat_minor": 5
}
