{
 "cells": [
  {
   "cell_type": "code",
   "execution_count": 1,
   "id": "06b58fae",
   "metadata": {},
   "outputs": [],
   "source": [
    "import pandas as pd\n",
    "import numpy as np\n",
    "import torch\n",
    "import torch.functional as F\n",
    "import torch.nn as nn \n",
    "import torch.optim as optim\n",
    "from sklearn.model_selection import train_test_split\n",
    "from sklearn.metrics import accuracy_score, f1_score, confusion_matrix, classification_report, ConfusionMatrixDisplay, roc_auc_score\n",
    "from torch.utils.data import Dataset, random_split, DataLoader, WeightedRandomSampler\n",
    "import os\n",
    "from torch.utils.tensorboard import SummaryWriter\n",
    "import time\n",
    "import pickle\n",
    "from imblearn.over_sampling import SMOTE, ADASYN"
   ]
  },
  {
   "cell_type": "markdown",
   "id": "262fac87",
   "metadata": {},
   "source": [
    "### 1. Data Loading"
   ]
  },
  {
   "cell_type": "code",
   "execution_count": null,
   "id": "2eaff451",
   "metadata": {},
   "outputs": [],
   "source": [
    "def read_data(path):\n",
    "    with open(path, 'rb') as f:\n",
    "        data = pickle.load(f)\n",
    "    X_train = data[\"X_train\"].copy()\n",
    "    X_valid = data[\"X_valid\"].copy()\n",
    "    X_test = data[\"X_test\"].copy()\n",
    "    y_train = data[\"y_train\"].copy()\n",
    "    y_valid = data[\"y_valid\"].copy()\n",
    "    y_test = data[\"y_test\"].copy()\n",
    "    features = data['feature_selection'].copy()\n",
    "    \n",
    "    return X_train, X_valid, X_test, y_train, y_valid, y_test, features\n",
    "\n",
    "data_path = 'Preprocessing/Final_data.pkl'\n",
    "X_train, X_valid, X_test, y_train, y_valid, y_test, features = read_data(data_path)"
   ]
  },
  {
   "cell_type": "markdown",
   "id": "6cbd3a34",
   "metadata": {},
   "source": [
    "### 2. Create Dataset"
   ]
  },
  {
   "cell_type": "code",
   "execution_count": 16,
   "id": "3e32a277",
   "metadata": {},
   "outputs": [],
   "source": [
    "class myDataSet(Dataset):\n",
    "    def __init__(self, data, label):\n",
    "        super().__init__()\n",
    "        self.data = torch.tensor(data.values, dtype=torch.float32)\n",
    "        self.label = torch.tensor(label.values, dtype=torch.long)\n",
    "    \n",
    "    def __len__(self):\n",
    "        return len(self.data)\n",
    "    \n",
    "    def __getitem__(self, index):\n",
    "        return self.data[index], self.label[index]"
   ]
  },
  {
   "cell_type": "code",
   "execution_count": 22,
   "id": "8f7c25cb",
   "metadata": {},
   "outputs": [],
   "source": [
    "BATCH_SIZE = 16\n",
    "\n",
    "train_data = myDataSet(X_train, y_train)\n",
    "train_loader = DataLoader(train_data, batch_size=BATCH_SIZE, shuffle=True)\n",
    "\n",
    "valid_data = myDataSet(X_valid, y_valid)\n",
    "valid_loader = DataLoader(valid_data, batch_size=BATCH_SIZE, shuffle=False)\n",
    "\n",
    "test_data = myDataSet(X_test, y_test)\n",
    "test_loader = DataLoader(test_data, batch_size=BATCH_SIZE, shuffle=False)"
   ]
  },
  {
   "cell_type": "markdown",
   "id": "1e19d633",
   "metadata": {},
   "source": [
    "### 3. Define Neural Network Structure"
   ]
  },
  {
   "cell_type": "code",
   "execution_count": 23,
   "id": "e6672d13",
   "metadata": {},
   "outputs": [],
   "source": [
    "class NeuralNetwork(nn.Module):\n",
    "    def __init__(self, input_dim, output_dim):\n",
    "        super().__init__()\n",
    "        \n",
    "        self.net = nn.Sequential(\n",
    "            nn.Linear(input_dim, 32),\n",
    "            nn.BatchNorm1d(32),       \n",
    "            nn.LeakyReLU(0.1),\n",
    "            \n",
    "            nn.Linear(32, 64),\n",
    "            nn.BatchNorm1d(64),\n",
    "            nn.LeakyReLU(0.1),\n",
    "            \n",
    "            nn.Linear(64, 128),\n",
    "            nn.BatchNorm1d(128),\n",
    "            nn.LeakyReLU(0.1),\n",
    "            nn.Dropout(0.3),          \n",
    "\n",
    "            nn.Linear(128, 256),\n",
    "            nn.BatchNorm1d(256),\n",
    "            nn.LeakyReLU(0.1),\n",
    "            nn.Dropout(0.3),\n",
    "            \n",
    "            nn.Linear(256, 512),\n",
    "            nn.BatchNorm1d(512),\n",
    "            nn.LeakyReLU(0.1),\n",
    "            nn.Dropout(0.3),\n",
    "\n",
    "            nn.Linear(512, output_dim),\n",
    "            nn.LogSoftmax(dim=1)      \n",
    "        )\n",
    "    \n",
    "    def forward(self, x):\n",
    "        return self.net(x)\n"
   ]
  },
  {
   "cell_type": "markdown",
   "id": "b3f012fa",
   "metadata": {},
   "source": [
    "### 4. Parameters & Hyperparameters"
   ]
  },
  {
   "cell_type": "code",
   "execution_count": 24,
   "id": "45639bf8",
   "metadata": {},
   "outputs": [],
   "source": [
    "# Parameter\n",
    "IN_DIM = X_train.shape[1]\n",
    "OUT_DIM = 2\n",
    "\n",
    "# Hyperparameters\n",
    "LEARNING_RATE = 1e-4\n",
    "NUM_EPOCHS = 100\n"
   ]
  },
  {
   "cell_type": "markdown",
   "id": "ff7cb49e",
   "metadata": {},
   "source": [
    "### 5. Model Training"
   ]
  },
  {
   "cell_type": "code",
   "execution_count": 25,
   "id": "66d33133",
   "metadata": {},
   "outputs": [],
   "source": [
    "device = torch.device(\"cuda\" if torch.cuda.is_available() else \"cpu\")\n",
    "model = NeuralNetwork(input_dim=IN_DIM, output_dim=OUT_DIM).to(device)\n",
    "\n",
    "# class_counts = np.bincount(y_train)  \n",
    "# class_weights = 1.0 / torch.tensor(class_counts, dtype=torch.float32)\n",
    "# class_weights = class_weights / class_weights.sum() \n",
    "# class_weights = class_weights.to(device)\n",
    "\n",
    "class_weights = torch.tensor([0.3, 0.7], dtype=torch.float32).to(device)\n",
    "\n",
    "criterion = nn.CrossEntropyLoss(weight=class_weights).to(device)  \n",
    "optimizer = torch.optim.AdamW(model.parameters(), lr=LEARNING_RATE, weight_decay=1e-4)\n",
    "\n",
    "best_acc = 0.0\n",
    "best_roc_auc = 0.0\n",
    "    \n",
    "\n",
    "def train(NUM_EPOCHS = 100, seed = 42):\n",
    "    torch.random.manual_seed(seed)\n",
    "    timestamp = int(time.time())\n",
    "    n_features = X_train.shape[1]\n",
    "    save_dir = f'Models/NeuralNetwork__{n_features}_features__{timestamp}/'\n",
    "    os.makedirs(save_dir, exist_ok=True)\n",
    "    log_dir = f'runs/NeuralNetwork__{n_features}_features__{timestamp}/'\n",
    "    \n",
    "    writer = SummaryWriter(log_dir=log_dir)    \n",
    "    \n",
    "    global best_acc, best_roc_auc\n",
    "\n",
    "    for epoch in range(NUM_EPOCHS):\n",
    "        model.train()\n",
    "        total_loss = 0\n",
    "\n",
    "        for x, y in train_loader:\n",
    "            x, y = x.to(device), y.to(device)\n",
    "            preds = model(x)\n",
    "            \n",
    "            loss = criterion(preds, y)\n",
    "            total_loss += loss.item()\n",
    "\n",
    "            optimizer.zero_grad()\n",
    "            loss.backward()\n",
    "            optimizer.step()\n",
    "        \n",
    "        model.eval()\n",
    "        y_pred = []\n",
    "        \n",
    "        with torch.no_grad():\n",
    "            for x, y in valid_loader:\n",
    "                x, y = x.to(device), y.to(device)\n",
    "                preds = model(x)\n",
    "                y_pred.extend(preds.argmax(dim=1).tolist())\n",
    "                \n",
    "        avg_loss = total_loss / len(train_loader)\n",
    "        \n",
    "        acc_score = accuracy_score(y_valid, y_pred)\n",
    "        roc_auc = roc_auc_score(y_valid, y_pred)\n",
    "\n",
    "        writer.add_scalar(\"Loss/train\", avg_loss, epoch)\n",
    "        writer.add_scalar(\"Accuracy/valid\", acc_score, epoch)\n",
    "        writer.add_scalar(\"F1-Score/valid\", roc_auc, epoch)\n",
    "\n",
    "        print(f\"Epoch {epoch+1}: Loss = {total_loss/len(train_loader):.4f}, Accuracy = {acc_score:.4f}, ROC-AUC Score = {roc_auc:.4f}\")\n",
    "\n",
    "        if acc_score > best_acc:\n",
    "            best_acc = acc_score\n",
    "            torch.save(model.state_dict(), os.path.join(save_dir, 'best_accuracy.pth'))\n",
    "            \n",
    "        if roc_auc > best_roc_auc:\n",
    "            best_roc_auc = roc_auc\n",
    "            torch.save(model.state_dict(),os.path.join(save_dir, 'best_roc_auc.pth'))\n",
    "\n",
    "    torch.save(model.state_dict(), os.path.join(save_dir, 'final_epoch.pth'))\n",
    "    \n",
    "    print(f\"Training finished. Best Accuracy: {best_acc:.4f}, Best ROC-AUC Score: {best_roc_auc:.4f}\")\n",
    "    \n",
    "    writer.close()"
   ]
  },
  {
   "cell_type": "code",
   "execution_count": 8,
   "id": "4964ee6a",
   "metadata": {},
   "outputs": [
    {
     "name": "stdout",
     "output_type": "stream",
     "text": [
      "Epoch 1: Loss = 0.6258, Accuracy = 0.8299, ROC-AUC Score = 0.6301\n",
      "Epoch 2: Loss = 0.5618, Accuracy = 0.8299, ROC-AUC Score = 0.6636\n",
      "Epoch 3: Loss = 0.5324, Accuracy = 0.8299, ROC-AUC Score = 0.6636\n",
      "Epoch 4: Loss = 0.5388, Accuracy = 0.8163, ROC-AUC Score = 0.6555\n",
      "Epoch 5: Loss = 0.5355, Accuracy = 0.8163, ROC-AUC Score = 0.6723\n",
      "Epoch 6: Loss = 0.5275, Accuracy = 0.8299, ROC-AUC Score = 0.6972\n",
      "Epoch 7: Loss = 0.5348, Accuracy = 0.8367, ROC-AUC Score = 0.7180\n",
      "Epoch 8: Loss = 0.5087, Accuracy = 0.8503, ROC-AUC Score = 0.7429\n",
      "Epoch 9: Loss = 0.4976, Accuracy = 0.8571, ROC-AUC Score = 0.7302\n",
      "Epoch 10: Loss = 0.5062, Accuracy = 0.8435, ROC-AUC Score = 0.7053\n",
      "Epoch 11: Loss = 0.5014, Accuracy = 0.8571, ROC-AUC Score = 0.7470\n",
      "Epoch 12: Loss = 0.4818, Accuracy = 0.8163, ROC-AUC Score = 0.7393\n",
      "Epoch 13: Loss = 0.4931, Accuracy = 0.8503, ROC-AUC Score = 0.7597\n",
      "Epoch 14: Loss = 0.4922, Accuracy = 0.8571, ROC-AUC Score = 0.7637\n",
      "Epoch 15: Loss = 0.4864, Accuracy = 0.8435, ROC-AUC Score = 0.7221\n",
      "Epoch 16: Loss = 0.4647, Accuracy = 0.8503, ROC-AUC Score = 0.7597\n",
      "Epoch 17: Loss = 0.4602, Accuracy = 0.8435, ROC-AUC Score = 0.7556\n",
      "Epoch 18: Loss = 0.4500, Accuracy = 0.8435, ROC-AUC Score = 0.7556\n",
      "Epoch 19: Loss = 0.4792, Accuracy = 0.8367, ROC-AUC Score = 0.7851\n",
      "Epoch 20: Loss = 0.4538, Accuracy = 0.8776, ROC-AUC Score = 0.7591\n",
      "Epoch 21: Loss = 0.4648, Accuracy = 0.8571, ROC-AUC Score = 0.7805\n",
      "Epoch 22: Loss = 0.4503, Accuracy = 0.8707, ROC-AUC Score = 0.7718\n",
      "Epoch 23: Loss = 0.4444, Accuracy = 0.8435, ROC-AUC Score = 0.7724\n",
      "Epoch 24: Loss = 0.4255, Accuracy = 0.8707, ROC-AUC Score = 0.7718\n",
      "Epoch 25: Loss = 0.4448, Accuracy = 0.8095, ROC-AUC Score = 0.7520\n",
      "Epoch 26: Loss = 0.4353, Accuracy = 0.8367, ROC-AUC Score = 0.7683\n",
      "Epoch 27: Loss = 0.4394, Accuracy = 0.8571, ROC-AUC Score = 0.7637\n",
      "Epoch 28: Loss = 0.4123, Accuracy = 0.8503, ROC-AUC Score = 0.7597\n",
      "Epoch 29: Loss = 0.4014, Accuracy = 0.8639, ROC-AUC Score = 0.7846\n",
      "Epoch 30: Loss = 0.4257, Accuracy = 0.8639, ROC-AUC Score = 0.7678\n",
      "Epoch 31: Loss = 0.4234, Accuracy = 0.8639, ROC-AUC Score = 0.7678\n",
      "Epoch 32: Loss = 0.4072, Accuracy = 0.8435, ROC-AUC Score = 0.7724\n",
      "Epoch 33: Loss = 0.4156, Accuracy = 0.8776, ROC-AUC Score = 0.7591\n",
      "Epoch 34: Loss = 0.4136, Accuracy = 0.8707, ROC-AUC Score = 0.7551\n",
      "Epoch 35: Loss = 0.4027, Accuracy = 0.8707, ROC-AUC Score = 0.7718\n",
      "Epoch 36: Loss = 0.4146, Accuracy = 0.8163, ROC-AUC Score = 0.7561\n",
      "Epoch 37: Loss = 0.3941, Accuracy = 0.8776, ROC-AUC Score = 0.7927\n",
      "Epoch 38: Loss = 0.4349, Accuracy = 0.8571, ROC-AUC Score = 0.7805\n",
      "Epoch 39: Loss = 0.3994, Accuracy = 0.8163, ROC-AUC Score = 0.7561\n",
      "Epoch 40: Loss = 0.4178, Accuracy = 0.8912, ROC-AUC Score = 0.7840\n",
      "Epoch 41: Loss = 0.3982, Accuracy = 0.8776, ROC-AUC Score = 0.7759\n",
      "Epoch 42: Loss = 0.4074, Accuracy = 0.8776, ROC-AUC Score = 0.7759\n",
      "Epoch 43: Loss = 0.3944, Accuracy = 0.8980, ROC-AUC Score = 0.7881\n",
      "Epoch 44: Loss = 0.3884, Accuracy = 0.8707, ROC-AUC Score = 0.7886\n",
      "Epoch 45: Loss = 0.3816, Accuracy = 0.8639, ROC-AUC Score = 0.7678\n",
      "Epoch 46: Loss = 0.3753, Accuracy = 0.8571, ROC-AUC Score = 0.7805\n",
      "Epoch 47: Loss = 0.3872, Accuracy = 0.8639, ROC-AUC Score = 0.7846\n",
      "Epoch 48: Loss = 0.3770, Accuracy = 0.8503, ROC-AUC Score = 0.7429\n",
      "Epoch 49: Loss = 0.3857, Accuracy = 0.8367, ROC-AUC Score = 0.7683\n",
      "Epoch 50: Loss = 0.3768, Accuracy = 0.8571, ROC-AUC Score = 0.7637\n",
      "Epoch 51: Loss = 0.3599, Accuracy = 0.8435, ROC-AUC Score = 0.7556\n",
      "Epoch 52: Loss = 0.3871, Accuracy = 0.8163, ROC-AUC Score = 0.7393\n",
      "Epoch 53: Loss = 0.4010, Accuracy = 0.8707, ROC-AUC Score = 0.7718\n",
      "Epoch 54: Loss = 0.3934, Accuracy = 0.8435, ROC-AUC Score = 0.7556\n",
      "Epoch 55: Loss = 0.3769, Accuracy = 0.8367, ROC-AUC Score = 0.7683\n",
      "Epoch 56: Loss = 0.3779, Accuracy = 0.8571, ROC-AUC Score = 0.7637\n",
      "Epoch 57: Loss = 0.3866, Accuracy = 0.8639, ROC-AUC Score = 0.7678\n",
      "Epoch 58: Loss = 0.3452, Accuracy = 0.8503, ROC-AUC Score = 0.7429\n",
      "Epoch 59: Loss = 0.3665, Accuracy = 0.8503, ROC-AUC Score = 0.7597\n",
      "Epoch 60: Loss = 0.3718, Accuracy = 0.8571, ROC-AUC Score = 0.7470\n",
      "Epoch 61: Loss = 0.3736, Accuracy = 0.8639, ROC-AUC Score = 0.7846\n",
      "Epoch 62: Loss = 0.3678, Accuracy = 0.8571, ROC-AUC Score = 0.7805\n",
      "Epoch 63: Loss = 0.3561, Accuracy = 0.8707, ROC-AUC Score = 0.7551\n",
      "Epoch 64: Loss = 0.3525, Accuracy = 0.8571, ROC-AUC Score = 0.7973\n",
      "Epoch 65: Loss = 0.3547, Accuracy = 0.8367, ROC-AUC Score = 0.7851\n",
      "Epoch 66: Loss = 0.3354, Accuracy = 0.8639, ROC-AUC Score = 0.7678\n",
      "Epoch 67: Loss = 0.3659, Accuracy = 0.8435, ROC-AUC Score = 0.7556\n",
      "Epoch 68: Loss = 0.3343, Accuracy = 0.8503, ROC-AUC Score = 0.7597\n",
      "Epoch 69: Loss = 0.3407, Accuracy = 0.8435, ROC-AUC Score = 0.7556\n",
      "Epoch 70: Loss = 0.3388, Accuracy = 0.8503, ROC-AUC Score = 0.7429\n",
      "Epoch 71: Loss = 0.3541, Accuracy = 0.8571, ROC-AUC Score = 0.7637\n",
      "Epoch 72: Loss = 0.3398, Accuracy = 0.8571, ROC-AUC Score = 0.7637\n",
      "Epoch 73: Loss = 0.3282, Accuracy = 0.8435, ROC-AUC Score = 0.7388\n",
      "Epoch 74: Loss = 0.3210, Accuracy = 0.8707, ROC-AUC Score = 0.7551\n",
      "Epoch 75: Loss = 0.3285, Accuracy = 0.8435, ROC-AUC Score = 0.7221\n",
      "Epoch 76: Loss = 0.3287, Accuracy = 0.8707, ROC-AUC Score = 0.7551\n",
      "Epoch 77: Loss = 0.3083, Accuracy = 0.8367, ROC-AUC Score = 0.7348\n",
      "Epoch 78: Loss = 0.3018, Accuracy = 0.8639, ROC-AUC Score = 0.7510\n",
      "Epoch 79: Loss = 0.3090, Accuracy = 0.8639, ROC-AUC Score = 0.7846\n",
      "Epoch 80: Loss = 0.3142, Accuracy = 0.8367, ROC-AUC Score = 0.7683\n",
      "Epoch 81: Loss = 0.3243, Accuracy = 0.8707, ROC-AUC Score = 0.7718\n",
      "Epoch 82: Loss = 0.3401, Accuracy = 0.8503, ROC-AUC Score = 0.7597\n",
      "Epoch 83: Loss = 0.3532, Accuracy = 0.8435, ROC-AUC Score = 0.7556\n",
      "Epoch 84: Loss = 0.3094, Accuracy = 0.8571, ROC-AUC Score = 0.7470\n",
      "Epoch 85: Loss = 0.3303, Accuracy = 0.8503, ROC-AUC Score = 0.7597\n",
      "Epoch 86: Loss = 0.2933, Accuracy = 0.8231, ROC-AUC Score = 0.7266\n",
      "Epoch 87: Loss = 0.3334, Accuracy = 0.8571, ROC-AUC Score = 0.7302\n",
      "Epoch 88: Loss = 0.3075, Accuracy = 0.8367, ROC-AUC Score = 0.7515\n",
      "Epoch 89: Loss = 0.3248, Accuracy = 0.8707, ROC-AUC Score = 0.7718\n",
      "Epoch 90: Loss = 0.2882, Accuracy = 0.8639, ROC-AUC Score = 0.7846\n",
      "Epoch 91: Loss = 0.2959, Accuracy = 0.8367, ROC-AUC Score = 0.7515\n",
      "Epoch 92: Loss = 0.3060, Accuracy = 0.8367, ROC-AUC Score = 0.7683\n",
      "Epoch 93: Loss = 0.3225, Accuracy = 0.8231, ROC-AUC Score = 0.7266\n",
      "Epoch 94: Loss = 0.2885, Accuracy = 0.8231, ROC-AUC Score = 0.7099\n",
      "Epoch 95: Loss = 0.2822, Accuracy = 0.8503, ROC-AUC Score = 0.7429\n",
      "Epoch 96: Loss = 0.2925, Accuracy = 0.8503, ROC-AUC Score = 0.7597\n",
      "Epoch 97: Loss = 0.3031, Accuracy = 0.8571, ROC-AUC Score = 0.7470\n",
      "Epoch 98: Loss = 0.3002, Accuracy = 0.8503, ROC-AUC Score = 0.7429\n",
      "Epoch 99: Loss = 0.2963, Accuracy = 0.8571, ROC-AUC Score = 0.7470\n",
      "Epoch 100: Loss = 0.2959, Accuracy = 0.8163, ROC-AUC Score = 0.7393\n",
      "Training finished. Best Accuracy: 0.8980, Best ROC-AUC Score: 0.7973\n"
     ]
    }
   ],
   "source": [
    "train(100, 42)"
   ]
  },
  {
   "cell_type": "markdown",
   "id": "8b9bf0cd",
   "metadata": {},
   "source": [
    "### 6. Model Evaluation"
   ]
  },
  {
   "cell_type": "markdown",
   "id": "7267740d",
   "metadata": {},
   "source": [
    "#### 6.1. 30 Features"
   ]
  },
  {
   "cell_type": "code",
   "execution_count": null,
   "id": "3f852105",
   "metadata": {},
   "outputs": [
    {
     "name": "stdout",
     "output_type": "stream",
     "text": [
      "Accuracy score: 0.8163, ROC-AUC Score: 0.6078\n"
     ]
    },
    {
     "data": {
      "text/plain": [
       "<sklearn.metrics._plot.confusion_matrix.ConfusionMatrixDisplay at 0x232291640b0>"
      ]
     },
     "execution_count": 26,
     "metadata": {},
     "output_type": "execute_result"
    },
    {
     "data": {
      "image/png": "[encoded data removed]",
      "text/plain": [
       "<Figure size 640x480 with 2 Axes>"
      ]
     },
     "metadata": {},
     "output_type": "display_data"
    }
   ],
   "source": [
    "model = NeuralNetwork(input_dim=30, output_dim=2).to(device)\n",
    "model.load_state_dict(torch.load('Models/NeuralNetwork__30_features__1744091785/best_accuracy.pth'))\n",
    "\n",
    "model.eval()\n",
    "y_pred = []\n",
    "with torch.no_grad():\n",
    "    loader = test_loader\n",
    "    for x, y in loader:\n",
    "        x, y = x.to(device), y.to(device)\n",
    "        preds = model(x)\n",
    "        y_pred.extend(preds.argmax(dim=1).tolist())\n",
    "        \n",
    "print(f'Accuracy score: {accuracy_score(y_test, y_pred):.4f}, ROC-AUC Score: {roc_auc_score(y_test, y_pred):.4f}')\n",
    "ConfusionMatrixDisplay(confusion_matrix(y_test, y_pred)).plot()"
   ]
  },
  {
   "cell_type": "markdown",
   "id": "5ffa56bd",
   "metadata": {},
   "source": [
    "#### 6.2. 25 Features"
   ]
  },
  {
   "cell_type": "markdown",
   "id": "fa031b3f",
   "metadata": {},
   "source": [
    "Thực hiện huấn luyện lại sau khi loại bỏ một số đặc trưng không quan trọng"
   ]
  },
  {
   "cell_type": "code",
   "execution_count": null,
   "id": "47f17099",
   "metadata": {},
   "outputs": [],
   "source": [
    "# for X in [X_train, X_valid, X_test]:\n",
    "#     X.drop(columns = ['Education', 'EducationField', 'Department', 'Gender', 'PerformanceRating'], inplace=True)\n",
    "\n",
    "# BATCH_SIZE = 16\n",
    "\n",
    "# train_data = myDataSet(X_train, y_train)\n",
    "# train_loader = DataLoader(train_data, batch_size=BATCH_SIZE, shuffle=True)\n",
    "\n",
    "# valid_data = myDataSet(X_valid, y_valid)\n",
    "# valid_loader = DataLoader(valid_data, batch_size=BATCH_SIZE, shuffle=False)\n",
    "\n",
    "# test_data = myDataSet(X_test, y_test)\n",
    "# test_loader = DataLoader(test_data, batch_size=BATCH_SIZE, shuffle=False)\n",
    "\n",
    "# train(100, 42)"
   ]
  },
  {
   "cell_type": "code",
   "execution_count": 11,
   "id": "1e8b697f",
   "metadata": {},
   "outputs": [
    {
     "name": "stdout",
     "output_type": "stream",
     "text": [
      "Accuracy score: 0.8367, ROC-AUC Score: 0.6730\n"
     ]
    },
    {
     "data": {
      "text/plain": [
       "<sklearn.metrics._plot.confusion_matrix.ConfusionMatrixDisplay at 0x23211513080>"
      ]
     },
     "execution_count": 11,
     "metadata": {},
     "output_type": "execute_result"
    },
    {
     "data": {
      "image/png": "[encoded data removed]",
      "text/plain": [
       "<Figure size 640x480 with 2 Axes>"
      ]
     },
     "metadata": {},
     "output_type": "display_data"
    }
   ],
   "source": [
    "model = NeuralNetwork(input_dim=25, output_dim=2).to(device)\n",
    "model.load_state_dict(torch.load('Models/NeuralNetwork__25_features__1744126185/best_accuracy.pth'))\n",
    "\n",
    "model.eval()\n",
    "y_pred = []\n",
    "with torch.no_grad():\n",
    "    loader = test_loader\n",
    "    for x, y in loader:\n",
    "        x, y = x.to(device), y.to(device)\n",
    "        preds = model(x)\n",
    "        y_pred.extend(preds.argmax(dim=1).tolist())\n",
    "        \n",
    "print(f'Accuracy score: {accuracy_score(y_test, y_pred):.4f}, ROC-AUC Score: {roc_auc_score(y_test, y_pred):.4f}')\n",
    "ConfusionMatrixDisplay(confusion_matrix(y_test, y_pred)).plot()"
   ]
  }
 ],
 "metadata": {
  "kernelspec": {
   "display_name": "Python 3",
   "language": "python",
   "name": "python3"
  },
  "language_info": {
   "codemirror_mode": {
    "name": "ipython",
    "version": 3
   },
   "file_extension": ".py",
   "mimetype": "text/x-python",
   "name": "python",
   "nbconvert_exporter": "python",
   "pygments_lexer": "ipython3",
   "version": "3.12.4"
  }
 },
 "nbformat": 4,
 "nbformat_minor": 5
}
